{
 "cells": [
  {
   "cell_type": "code",
   "execution_count": 2,
   "metadata": {},
   "outputs": [],
   "source": [
    "## Modele"
   ]
  },
  {
   "cell_type": "code",
   "execution_count": 3,
   "metadata": {},
   "outputs": [],
   "source": [
    "#### Regression linéaire"
   ]
  },
  {
   "cell_type": "code",
   "execution_count": 4,
   "metadata": {},
   "outputs": [
    {
     "ename": "SyntaxError",
     "evalue": "unmatched ')' (1604212395.py, line 1)",
     "output_type": "error",
     "traceback": [
      "\u001b[1;36m  Cell \u001b[1;32mIn[4], line 1\u001b[1;36m\u001b[0m\n\u001b[1;33m    0) Importer les librairies classiques : numpy, pandas, seaborn et matplolib\u001b[0m\n\u001b[1;37m     ^\u001b[0m\n\u001b[1;31mSyntaxError\u001b[0m\u001b[1;31m:\u001b[0m unmatched ')'\n"
     ]
    }
   ],
   "source": [
    "0) Importer les librairies classiques : numpy, pandas, seaborn et matplolib"
   ]
  },
  {
   "cell_type": "code",
   "execution_count": 2,
   "metadata": {},
   "outputs": [],
   "source": [
    "# linear algebra\n",
    "import numpy as np \n",
    "\n",
    "# data processing\n",
    "import pandas as pd  \n",
    "import sklearn as skl\n",
    "\n",
    "# data visualization\n",
    "import seaborn as sns#\n",
    "%matplotlib inline\n",
    "from matplotlib import pyplot as plt\n",
    "from matplotlib import style"
   ]
  },
  {
   "cell_type": "code",
   "execution_count": null,
   "metadata": {},
   "outputs": [],
   "source": [
    "1) Lire le fichier I_U.csv sous forme un \"DataFrame\""
   ]
  },
  {
   "cell_type": "code",
   "execution_count": 3,
   "metadata": {},
   "outputs": [
    {
     "name": "stdout",
     "output_type": "stream",
     "text": [
      "     I          U\n",
      "0    0  46.357215\n",
      "1    1  46.080189\n",
      "2    2  45.077372\n",
      "3    3  48.480649\n",
      "4    4  43.666733\n",
      "5    5  40.223129\n",
      "6    6  36.388229\n",
      "7    7  31.988586\n",
      "8    8  34.618622\n",
      "9    9  30.540518\n",
      "10  10  32.081422\n",
      "11  11  28.173746\n",
      "12  12  26.206945\n",
      "13  13  28.770603\n",
      "14  14  26.353311\n",
      "15  15  23.958229\n",
      "16  16  22.681573\n",
      "17  17  20.280405\n",
      "18  18  19.958462\n",
      "19  19  17.152491\n",
      "20  20  16.269820\n",
      "21  21  14.418664\n",
      "22  22  10.813753\n",
      "23  23  13.548900\n",
      "24  24   6.242566\n",
      "25  25   7.376335\n"
     ]
    }
   ],
   "source": [
    "ui_df = pd.read_csv(\"I_U.csv\", sep =\";\") # sep = ';' permet de définir le ; comme séparateur des colonnes dans\n",
    "print(ui_df)                             # le fichier csv. Par défaut sep = ','"
   ]
  },
  {
   "cell_type": "code",
   "execution_count": null,
   "metadata": {},
   "outputs": [],
   "source": [
    "2) Déterminer la size de DataFrame, valeur max, min, mediane et ecarttype de chaque colonne"
   ]
  },
  {
   "cell_type": "code",
   "execution_count": 4,
   "metadata": {},
   "outputs": [
    {
     "name": "stdout",
     "output_type": "stream",
     "text": [
      "0      0\n",
      "1      1\n",
      "2      2\n",
      "3      3\n",
      "4      4\n",
      "5      5\n",
      "6      6\n",
      "7      7\n",
      "8      8\n",
      "9      9\n",
      "10    10\n",
      "11    11\n",
      "12    12\n",
      "13    13\n",
      "14    14\n",
      "15    15\n",
      "16    16\n",
      "17    17\n",
      "18    18\n",
      "19    19\n",
      "20    20\n",
      "21    21\n",
      "22    22\n",
      "23    23\n",
      "24    24\n",
      "25    25\n",
      "Name: I, dtype: int64\n",
      "26\n",
      "48.4806486268642\n",
      "25\n",
      "6.24256569495052\n",
      "0\n",
      "27.2635285662666\n",
      "12.5\n",
      "0.9102175786973\n",
      "0.5\n"
     ]
    }
   ],
   "source": [
    "long = len(ui_df['I'])\n",
    "iii = ui_df['I']\n",
    "max_u =max(ui_df['U'])\n",
    "max_i = max(ui_df['I'])\n",
    "min_u = min(ui_df['U'])\n",
    "min_i = min(ui_df['I'])\n",
    "mediane_u = np.median(ui_df['U'])\n",
    "mediane_i = np.median(ui_df['I'])\n",
    "ecart_type_u = np.sqrt(np.median(ui_df['U']**2)- np.median(ui_df['U'])**2)\n",
    "ecart_type_i = np.sqrt(np.median(ui_df['I']**2)- np.median(ui_df['I'])**2)\n",
    "\n",
    "print(iii)\n",
    "print(long)\n",
    "print(max_u)\n",
    "print(max_i)\n",
    "print(min_u)\n",
    "print(min_i)\n",
    "print(mediane_u)\n",
    "print(mediane_i)\n",
    "print(ecart_type_u)\n",
    "print(ecart_type_i)"
   ]
  },
  {
   "cell_type": "code",
   "execution_count": null,
   "metadata": {},
   "outputs": [],
   "source": [
    "3) Tracer U(I), sous forme de nouage de points"
   ]
  },
  {
   "cell_type": "code",
   "execution_count": 6,
   "metadata": {},
   "outputs": [
    {
     "data": {
      "image/png": "[encoded data removed]",
      "text/plain": [
       "<Figure size 640x480 with 1 Axes>"
      ]
     },
     "metadata": {},
     "output_type": "display_data"
    }
   ],
   "source": [
    "graph1 = plt.scatter(ui_df['I'],ui_df['U'],s = 100) \n",
    "plt.show()\n",
    "#scatter permet de tracer des nuages de points. Les abscisses des points sont la première entrée, les ordonnées\n",
    "# la deuxième et s règle la taille des points "
   ]
  },
  {
   "cell_type": "code",
   "execution_count": null,
   "metadata": {},
   "outputs": [],
   "source": [
    "4) Séparer les deux colonnes du fichier en 4 listes de données X_train, X_test, Y_train, Y_test avec 80 pourcent pour train\n",
    "   et 20% pour test. en utilisant: from sklearn.model_selection import train_test_split"
   ]
  },
  {
   "cell_type": "code",
   "execution_count": 8,
   "metadata": {},
   "outputs": [],
   "source": [
    "from sklearn.model_selection import train_test_split\n",
    "X_train,X_test,Y_train,Y_test = train_test_split(ui_df['I'],ui_df['U'],test_size=0.2)"
   ]
  },
  {
   "cell_type": "code",
   "execution_count": null,
   "metadata": {},
   "outputs": [],
   "source": [
    "5)Verifeir le pourcentage de la séparation "
   ]
  },
  {
   "cell_type": "code",
   "execution_count": 9,
   "metadata": {},
   "outputs": [
    {
     "name": "stdout",
     "output_type": "stream",
     "text": [
      "23.076923076923077\n"
     ]
    }
   ],
   "source": [
    "perc_sep = 100 * len(X_test)/len(ui_df['I'])\n",
    "print(perc_sep)"
   ]
  },
  {
   "cell_type": "code",
   "execution_count": null,
   "metadata": {},
   "outputs": [],
   "source": [
    "6) Mettre X_train et Y_train sous forme de liste.values.reshape(-1,1) "
   ]
  },
  {
   "cell_type": "code",
   "execution_count": 10,
   "metadata": {},
   "outputs": [
    {
     "name": "stdout",
     "output_type": "stream",
     "text": [
      "(20,)\n",
      "(20, 1)\n"
     ]
    }
   ],
   "source": [
    "print(np.shape(X_train))\n",
    "x_train = X_train.values.reshape(-1,1)\n",
    "y_train = Y_train.values.reshape(-1,1)\n",
    "y_test = Y_test.values.reshape(-1,1)\n",
    "x_test = X_test.values.reshape(-1,1)\n",
    "\n",
    "print(np.shape(x_train))\n",
    "\n",
    "# reshape change la forme des tableaux. X_train est un tableau 1_dimensionnel, on le transforme en tableau à len(X_train) lignes\n",
    "# le -1 recupère la dimension précédente du tableau) et 1 colonne.\n",
    "\n"
   ]
  },
  {
   "cell_type": "code",
   "execution_count": null,
   "metadata": {},
   "outputs": [],
   "source": [
    "7) Tracer plot(x_train,y_train,'*') et plt.plot(x_test,y_test,'*')"
   ]
  },
  {
   "cell_type": "code",
   "execution_count": 19,
   "metadata": {},
   "outputs": [
    {
     "data": {
      "image/png": "[encoded data removed]",
      "text/plain": [
       "<Figure size 640x480 with 1 Axes>"
      ]
     },
     "metadata": {},
     "output_type": "display_data"
    }
   ],
   "source": [
    "plt.plot(x_train,y_train,\"*\")\n",
    "plt.plot(x_test,y_test, \"*\")\n",
    "plt.show()\n",
    "\n",
    "# en orange les données de test et en bleu celles d'entrainement"
   ]
  },
  {
   "cell_type": "code",
   "execution_count": null,
   "metadata": {},
   "outputs": [],
   "source": [
    "8) Phase d'entrainement: Conception d'un modèle nomé: model_Lin "
   ]
  },
  {
   "cell_type": "code",
   "execution_count": 20,
   "metadata": {},
   "outputs": [
    {
     "data": {
      "text/html": [
       "<style>#sk-container-id-1 {color: black;background-color: white;}#sk-container-id-1 pre{padding: 0;}#sk-container-id-1 div.sk-toggleable {background-color: white;}#sk-container-id-1 label.sk-toggleable__label {cursor: pointer;display: block;width: 100%;margin-bottom: 0;padding: 0.3em;box-sizing: border-box;text-align: center;}#sk-container-id-1 label.sk-toggleable__label-arrow:before {content: \"▸\";float: left;margin-right: 0.25em;color: #696969;}#sk-container-id-1 label.sk-toggleable__label-arrow:hover:before {color: black;}#sk-container-id-1 div.sk-estimator:hover label.sk-toggleable__label-arrow:before {color: black;}#sk-container-id-1 div.sk-toggleable__content {max-height: 0;max-width: 0;overflow: hidden;text-align: left;background-color: #f0f8ff;}#sk-container-id-1 div.sk-toggleable__content pre {margin: 0.2em;color: black;border-radius: 0.25em;background-color: #f0f8ff;}#sk-container-id-1 input.sk-toggleable__control:checked~div.sk-toggleable__content {max-height: 200px;max-width: 100%;overflow: auto;}#sk-container-id-1 input.sk-toggleable__control:checked~label.sk-toggleable__label-arrow:before {content: \"▾\";}#sk-container-id-1 div.sk-estimator input.sk-toggleable__control:checked~label.sk-toggleable__label {background-color: #d4ebff;}#sk-container-id-1 div.sk-label input.sk-toggleable__control:checked~label.sk-toggleable__label {background-color: #d4ebff;}#sk-container-id-1 input.sk-hidden--visually {border: 0;clip: rect(1px 1px 1px 1px);clip: rect(1px, 1px, 1px, 1px);height: 1px;margin: -1px;overflow: hidden;padding: 0;position: absolute;width: 1px;}#sk-container-id-1 div.sk-estimator {font-family: monospace;background-color: #f0f8ff;border: 1px dotted black;border-radius: 0.25em;box-sizing: border-box;margin-bottom: 0.5em;}#sk-container-id-1 div.sk-estimator:hover {background-color: #d4ebff;}#sk-container-id-1 div.sk-parallel-item::after {content: \"\";width: 100%;border-bottom: 1px solid gray;flex-grow: 1;}#sk-container-id-1 div.sk-label:hover label.sk-toggleable__label {background-color: #d4ebff;}#sk-container-id-1 div.sk-serial::before {content: \"\";position: absolute;border-left: 1px solid gray;box-sizing: border-box;top: 0;bottom: 0;left: 50%;z-index: 0;}#sk-container-id-1 div.sk-serial {display: flex;flex-direction: column;align-items: center;background-color: white;padding-right: 0.2em;padding-left: 0.2em;position: relative;}#sk-container-id-1 div.sk-item {position: relative;z-index: 1;}#sk-container-id-1 div.sk-parallel {display: flex;align-items: stretch;justify-content: center;background-color: white;position: relative;}#sk-container-id-1 div.sk-item::before, #sk-container-id-1 div.sk-parallel-item::before {content: \"\";position: absolute;border-left: 1px solid gray;box-sizing: border-box;top: 0;bottom: 0;left: 50%;z-index: -1;}#sk-container-id-1 div.sk-parallel-item {display: flex;flex-direction: column;z-index: 1;position: relative;background-color: white;}#sk-container-id-1 div.sk-parallel-item:first-child::after {align-self: flex-end;width: 50%;}#sk-container-id-1 div.sk-parallel-item:last-child::after {align-self: flex-start;width: 50%;}#sk-container-id-1 div.sk-parallel-item:only-child::after {width: 0;}#sk-container-id-1 div.sk-dashed-wrapped {border: 1px dashed gray;margin: 0 0.4em 0.5em 0.4em;box-sizing: border-box;padding-bottom: 0.4em;background-color: white;}#sk-container-id-1 div.sk-label label {font-family: monospace;font-weight: bold;display: inline-block;line-height: 1.2em;}#sk-container-id-1 div.sk-label-container {text-align: center;}#sk-container-id-1 div.sk-container {/* jupyter's `normalize.less` sets `[hidden] { display: none; }` but bootstrap.min.css set `[hidden] { display: none !important; }` so we also need the `!important` here to be able to override the default hidden behavior on the sphinx rendered scikit-learn.org. See: https://github.com/scikit-learn/scikit-learn/issues/21755 */display: inline-block !important;position: relative;}#sk-container-id-1 div.sk-text-repr-fallback {display: none;}</style><div id=\"sk-container-id-1\" class=\"sk-top-container\"><div class=\"sk-text-repr-fallback\"><pre>LinearRegression()</pre><b>In a Jupyter environment, please rerun this cell to show the HTML representation or trust the notebook. <br />On GitHub, the HTML representation is unable to render, please try loading this page with nbviewer.org.</b></div><div class=\"sk-container\" hidden><div class=\"sk-item\"><div class=\"sk-estimator sk-toggleable\"><input class=\"sk-toggleable__control sk-hidden--visually\" id=\"sk-estimator-id-1\" type=\"checkbox\" checked><label for=\"sk-estimator-id-1\" class=\"sk-toggleable__label sk-toggleable__label-arrow\">LinearRegression</label><div class=\"sk-toggleable__content\"><pre>LinearRegression()</pre></div></div></div></div></div>"
      ],
      "text/plain": [
       "LinearRegression()"
      ]
     },
     "execution_count": 20,
     "metadata": {},
     "output_type": "execute_result"
    }
   ],
   "source": [
    "from sklearn.linear_model import LinearRegression\n",
    "model = LinearRegression()\n",
    "model.fit(x_train,y_train)\n",
    "\n",
    "# fit entraine le modèle en utilisant les données transmises pour calculer les différents paramètres du modèle. "
   ]
  },
  {
   "cell_type": "code",
   "execution_count": null,
   "metadata": {},
   "outputs": [],
   "source": [
    "9) Déterminer le score pour train , score pour test, coef et intercept\n"
   ]
  },
  {
   "cell_type": "code",
   "execution_count": 26,
   "metadata": {},
   "outputs": [
    {
     "name": "stdout",
     "output_type": "stream",
     "text": [
      "0.9820004355628127\n",
      "0.9677698984246512\n",
      "-1.6198428298351764\n",
      "48.13519069404079\n"
     ]
    }
   ],
   "source": [
    "score_train = model.score(x_train,y_train)\n",
    "score_test = model.score(x_test,y_test)\n",
    "pente = model.coef_[0,0] # pente de la droite modélisée\n",
    "origine = model.intercept_[0] # interception courbe du modèle et ordonnée \n",
    "\n",
    "print (score_test)\n",
    "print(score_train)\n",
    "print(pente)\n",
    "print(origine)\n",
    "\n"
   ]
  },
  {
   "cell_type": "code",
   "execution_count": null,
   "metadata": {},
   "outputs": [],
   "source": [
    "10) Tracer le nuage des points des données et tracer la droite donnée par le modèle"
   ]
  },
  {
   "cell_type": "code",
   "execution_count": 35,
   "metadata": {},
   "outputs": [
    {
     "data": {
      "image/png": "[encoded data removed]",
      "text/plain": [
       "<Figure size 640x480 with 1 Axes>"
      ]
     },
     "metadata": {},
     "output_type": "display_data"
    }
   ],
   "source": [
    "plt.plot(x_train,y_train,\"*\")\n",
    "plt.plot(x_test,y_test, \"*\")\n",
    "x_d = [i for i in range(0,27)]\n",
    "def droite(x):\n",
    "    return origine + x*pente \n",
    "y_d = [droite(x) for x in x_d]\n",
    "plt.plot(x_d,y_d)\n",
    "plt.plot(ui_df['I'][10],ui_df['U'][10],\"*r\")\n",
    "plt.show()"
   ]
  },
  {
   "cell_type": "code",
   "execution_count": null,
   "metadata": {},
   "outputs": [],
   "source": [
    "11) Verifer la valeur de courant pour I=10A. Mettre ce point sur le graphique précédent"
   ]
  },
  {
   "cell_type": "code",
   "execution_count": null,
   "metadata": {},
   "outputs": [],
   "source": [
    "# point rouge sur le graphique précédent "
   ]
  },
  {
   "cell_type": "code",
   "execution_count": null,
   "metadata": {},
   "outputs": [],
   "source": [
    "12) Mettre ce point sur le graphique précéden"
   ]
  },
  {
   "cell_type": "code",
   "execution_count": null,
   "metadata": {},
   "outputs": [],
   "source": []
  },
  {
   "cell_type": "code",
   "execution_count": null,
   "metadata": {},
   "outputs": [],
   "source": []
  }
 ],
 "metadata": {
  "kernelspec": {
   "display_name": "Python 3",
   "language": "python",
   "name": "python3"
  },
  "language_info": {
   "codemirror_mode": {
    "name": "ipython",
    "version": 3
   },
   "file_extension": ".py",
   "mimetype": "text/x-python",
   "name": "python",
   "nbconvert_exporter": "python",
   "pygments_lexer": "ipython3",
   "version": "3.9.13"
  },
  "vscode": {
   "interpreter": {
    "hash": "20478b419c92bbbd3a9bc5a33dfd00ac856434ce3038a748699e8b58eb618ce6"
   }
  }
 },
 "nbformat": 4,
 "nbformat_minor": 4
}
