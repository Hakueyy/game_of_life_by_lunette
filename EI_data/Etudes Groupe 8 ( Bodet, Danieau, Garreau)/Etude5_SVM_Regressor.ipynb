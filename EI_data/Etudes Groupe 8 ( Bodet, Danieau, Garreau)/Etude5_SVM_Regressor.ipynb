{
 "cells": [
  {
   "attachments": {},
   "cell_type": "markdown",
   "metadata": {},
   "source": [
    "### SVM   Regressor"
   ]
  },
  {
   "cell_type": "code",
   "execution_count": null,
   "metadata": {},
   "outputs": [],
   "source": [
    "1) Importer les librairies classiques : numpy, pandas, sklearn.svm, seaborn et matplolib"
   ]
  },
  {
   "cell_type": "code",
   "execution_count": 1,
   "metadata": {},
   "outputs": [],
   "source": [
    "\n",
    "# linear algebra\n",
    "import numpy as np \n",
    "\n",
    "# data processing\n",
    "import pandas as pd  \n",
    "import sklearn.svm as skl\n",
    "\n",
    "# data visualization\n",
    "import seaborn as sns#\n",
    "from matplotlib import pyplot as plt\n",
    "from matplotlib import style"
   ]
  },
  {
   "cell_type": "code",
   "execution_count": null,
   "metadata": {},
   "outputs": [],
   "source": [
    "2) Lire le fichier sinusPoint.csv avec pandas"
   ]
  },
  {
   "cell_type": "code",
   "execution_count": 3,
   "metadata": {},
   "outputs": [
    {
     "data": {
      "text/html": [
       "<div>\n",
       "<style scoped>\n",
       "    .dataframe tbody tr th:only-of-type {\n",
       "        vertical-align: middle;\n",
       "    }\n",
       "\n",
       "    .dataframe tbody tr th {\n",
       "        vertical-align: top;\n",
       "    }\n",
       "\n",
       "    .dataframe thead th {\n",
       "        text-align: right;\n",
       "    }\n",
       "</style>\n",
       "<table border=\"1\" class=\"dataframe\">\n",
       "  <thead>\n",
       "    <tr style=\"text-align: right;\">\n",
       "      <th></th>\n",
       "      <th>x</th>\n",
       "      <th>y</th>\n",
       "    </tr>\n",
       "  </thead>\n",
       "  <tbody>\n",
       "    <tr>\n",
       "      <th>0</th>\n",
       "      <td>0.048622</td>\n",
       "      <td>-1.144409</td>\n",
       "    </tr>\n",
       "    <tr>\n",
       "      <th>1</th>\n",
       "      <td>0.206674</td>\n",
       "      <td>0.205205</td>\n",
       "    </tr>\n",
       "    <tr>\n",
       "      <th>2</th>\n",
       "      <td>0.214106</td>\n",
       "      <td>0.212474</td>\n",
       "    </tr>\n",
       "    <tr>\n",
       "      <th>3</th>\n",
       "      <td>0.274286</td>\n",
       "      <td>0.270859</td>\n",
       "    </tr>\n",
       "    <tr>\n",
       "      <th>4</th>\n",
       "      <td>0.394463</td>\n",
       "      <td>0.384313</td>\n",
       "    </tr>\n",
       "    <tr>\n",
       "      <th>5</th>\n",
       "      <td>0.417927</td>\n",
       "      <td>1.745629</td>\n",
       "    </tr>\n",
       "    <tr>\n",
       "      <th>6</th>\n",
       "      <td>0.627966</td>\n",
       "      <td>0.587500</td>\n",
       "    </tr>\n",
       "    <tr>\n",
       "      <th>7</th>\n",
       "      <td>0.661298</td>\n",
       "      <td>0.614142</td>\n",
       "    </tr>\n",
       "    <tr>\n",
       "      <th>8</th>\n",
       "      <td>0.690659</td>\n",
       "      <td>0.637045</td>\n",
       "    </tr>\n",
       "    <tr>\n",
       "      <th>9</th>\n",
       "      <td>0.714988</td>\n",
       "      <td>0.655608</td>\n",
       "    </tr>\n",
       "    <tr>\n",
       "      <th>10</th>\n",
       "      <td>1.022511</td>\n",
       "      <td>0.112264</td>\n",
       "    </tr>\n",
       "    <tr>\n",
       "      <th>11</th>\n",
       "      <td>1.126900</td>\n",
       "      <td>0.903085</td>\n",
       "    </tr>\n",
       "    <tr>\n",
       "      <th>12</th>\n",
       "      <td>1.144423</td>\n",
       "      <td>0.910472</td>\n",
       "    </tr>\n",
       "    <tr>\n",
       "      <th>13</th>\n",
       "      <td>1.233937</td>\n",
       "      <td>0.943797</td>\n",
       "    </tr>\n",
       "    <tr>\n",
       "      <th>14</th>\n",
       "      <td>1.354926</td>\n",
       "      <td>0.976790</td>\n",
       "    </tr>\n",
       "    <tr>\n",
       "      <th>15</th>\n",
       "      <td>1.523210</td>\n",
       "      <td>1.669686</td>\n",
       "    </tr>\n",
       "    <tr>\n",
       "      <th>16</th>\n",
       "      <td>1.555728</td>\n",
       "      <td>0.999886</td>\n",
       "    </tr>\n",
       "    <tr>\n",
       "      <th>17</th>\n",
       "      <td>1.699349</td>\n",
       "      <td>0.991749</td>\n",
       "    </tr>\n",
       "    <tr>\n",
       "      <th>18</th>\n",
       "      <td>1.847252</td>\n",
       "      <td>0.962029</td>\n",
       "    </tr>\n",
       "    <tr>\n",
       "      <th>19</th>\n",
       "      <td>1.868233</td>\n",
       "      <td>0.956091</td>\n",
       "    </tr>\n",
       "    <tr>\n",
       "      <th>20</th>\n",
       "      <td>2.001125</td>\n",
       "      <td>1.572317</td>\n",
       "    </tr>\n",
       "    <tr>\n",
       "      <th>21</th>\n",
       "      <td>2.088205</td>\n",
       "      <td>0.869104</td>\n",
       "    </tr>\n",
       "    <tr>\n",
       "      <th>22</th>\n",
       "      <td>2.091425</td>\n",
       "      <td>0.867506</td>\n",
       "    </tr>\n",
       "    <tr>\n",
       "      <th>23</th>\n",
       "      <td>2.225396</td>\n",
       "      <td>0.793292</td>\n",
       "    </tr>\n",
       "    <tr>\n",
       "      <th>24</th>\n",
       "      <td>2.401500</td>\n",
       "      <td>0.674356</td>\n",
       "    </tr>\n",
       "    <tr>\n",
       "      <th>25</th>\n",
       "      <td>2.746059</td>\n",
       "      <td>-1.002467</td>\n",
       "    </tr>\n",
       "    <tr>\n",
       "      <th>26</th>\n",
       "      <td>2.816250</td>\n",
       "      <td>0.319634</td>\n",
       "    </tr>\n",
       "    <tr>\n",
       "      <th>27</th>\n",
       "      <td>3.026883</td>\n",
       "      <td>0.114459</td>\n",
       "    </tr>\n",
       "    <tr>\n",
       "      <th>28</th>\n",
       "      <td>3.158307</td>\n",
       "      <td>-0.016713</td>\n",
       "    </tr>\n",
       "    <tr>\n",
       "      <th>29</th>\n",
       "      <td>3.307357</td>\n",
       "      <td>-0.165007</td>\n",
       "    </tr>\n",
       "    <tr>\n",
       "      <th>30</th>\n",
       "      <td>3.586185</td>\n",
       "      <td>0.323086</td>\n",
       "    </tr>\n",
       "    <tr>\n",
       "      <th>31</th>\n",
       "      <td>3.647101</td>\n",
       "      <td>-0.484252</td>\n",
       "    </tr>\n",
       "    <tr>\n",
       "      <th>32</th>\n",
       "      <td>3.792157</td>\n",
       "      <td>-0.605636</td>\n",
       "    </tr>\n",
       "    <tr>\n",
       "      <th>33</th>\n",
       "      <td>3.872558</td>\n",
       "      <td>-0.667589</td>\n",
       "    </tr>\n",
       "    <tr>\n",
       "      <th>34</th>\n",
       "      <td>4.166520</td>\n",
       "      <td>-0.854676</td>\n",
       "    </tr>\n",
       "    <tr>\n",
       "      <th>35</th>\n",
       "      <td>4.353011</td>\n",
       "      <td>0.478732</td>\n",
       "    </tr>\n",
       "    <tr>\n",
       "      <th>36</th>\n",
       "      <td>4.389917</td>\n",
       "      <td>-0.948455</td>\n",
       "    </tr>\n",
       "    <tr>\n",
       "      <th>37</th>\n",
       "      <td>4.491208</td>\n",
       "      <td>-0.975639</td>\n",
       "    </tr>\n",
       "    <tr>\n",
       "      <th>38</th>\n",
       "      <td>4.772870</td>\n",
       "      <td>-0.998172</td>\n",
       "    </tr>\n",
       "    <tr>\n",
       "      <th>39</th>\n",
       "      <td>4.902439</td>\n",
       "      <td>-0.981995</td>\n",
       "    </tr>\n",
       "  </tbody>\n",
       "</table>\n",
       "</div>"
      ],
      "text/plain": [
       "           x         y\n",
       "0   0.048622 -1.144409\n",
       "1   0.206674  0.205205\n",
       "2   0.214106  0.212474\n",
       "3   0.274286  0.270859\n",
       "4   0.394463  0.384313\n",
       "5   0.417927  1.745629\n",
       "6   0.627966  0.587500\n",
       "7   0.661298  0.614142\n",
       "8   0.690659  0.637045\n",
       "9   0.714988  0.655608\n",
       "10  1.022511  0.112264\n",
       "11  1.126900  0.903085\n",
       "12  1.144423  0.910472\n",
       "13  1.233937  0.943797\n",
       "14  1.354926  0.976790\n",
       "15  1.523210  1.669686\n",
       "16  1.555728  0.999886\n",
       "17  1.699349  0.991749\n",
       "18  1.847252  0.962029\n",
       "19  1.868233  0.956091\n",
       "20  2.001125  1.572317\n",
       "21  2.088205  0.869104\n",
       "22  2.091425  0.867506\n",
       "23  2.225396  0.793292\n",
       "24  2.401500  0.674356\n",
       "25  2.746059 -1.002467\n",
       "26  2.816250  0.319634\n",
       "27  3.026883  0.114459\n",
       "28  3.158307 -0.016713\n",
       "29  3.307357 -0.165007\n",
       "30  3.586185  0.323086\n",
       "31  3.647101 -0.484252\n",
       "32  3.792157 -0.605636\n",
       "33  3.872558 -0.667589\n",
       "34  4.166520 -0.854676\n",
       "35  4.353011  0.478732\n",
       "36  4.389917 -0.948455\n",
       "37  4.491208 -0.975639\n",
       "38  4.772870 -0.998172\n",
       "39  4.902439 -0.981995"
      ]
     },
     "execution_count": 3,
     "metadata": {},
     "output_type": "execute_result"
    }
   ],
   "source": [
    "sin = pd.read_csv('sinusPoint.csv', sep = ';')\n",
    "sin"
   ]
  },
  {
   "attachments": {},
   "cell_type": "markdown",
   "metadata": {},
   "source": [
    "3) Tracer y(x), sous forme de nuage de points"
   ]
  },
  {
   "cell_type": "code",
   "execution_count": 4,
   "metadata": {},
   "outputs": [
    {
     "data": {
      "text/plain": [
       "<matplotlib.collections.PathCollection at 0x26df7bf6b20>"
      ]
     },
     "execution_count": 4,
     "metadata": {},
     "output_type": "execute_result"
    },
    {
     "data": {
      "image/png": "[encoded data removed]",
      "text/plain": [
       "<Figure size 640x480 with 1 Axes>"
      ]
     },
     "metadata": {},
     "output_type": "display_data"
    }
   ],
   "source": [
    "\n",
    "plt.scatter(sin['x'],sin['y'])"
   ]
  },
  {
   "attachments": {},
   "cell_type": "markdown",
   "metadata": {},
   "source": [
    "4) Entrainement, test avec l'algorithme SVR"
   ]
  },
  {
   "cell_type": "code",
   "execution_count": 7,
   "metadata": {},
   "outputs": [
    {
     "name": "stdout",
     "output_type": "stream",
     "text": [
      "0.8903827304022507\n",
      "0.5493253639678988\n"
     ]
    },
    {
     "name": "stderr",
     "output_type": "stream",
     "text": [
      "c:\\Users\\laure\\AppData\\Local\\Programs\\Python\\Python39\\lib\\site-packages\\sklearn\\utils\\validation.py:1143: DataConversionWarning: A column-vector y was passed when a 1d array was expected. Please change the shape of y to (n_samples, ), for example using ravel().\n",
      "  y = column_or_1d(y, warn=True)\n"
     ]
    }
   ],
   "source": [
    "X = sin['x']\n",
    "Y = sin['y']\n",
    "from sklearn.model_selection import train_test_split\n",
    "from sklearn.svm import SVR\n",
    "\n",
    "X_train,X_test,Y_train,Y_test = train_test_split(X,Y,test_size=0.2)\n",
    "x_train = X_train.values.reshape(-1,1)\n",
    "y_train = Y_train.values.reshape(-1,1)\n",
    "y_test = Y_test.values.reshape(-1,1)\n",
    "x_test = X_test.values.reshape(-1,1)\n",
    "x_tot= X.values.reshape(-1,1)\n",
    "y_tot = Y.values.reshape(-1,1)\n",
    "\n",
    "model = SVR()\n",
    "model.fit(x_train,y_train)\n",
    "score_train = model.score(x_train,y_train)\n",
    "score_test = model.score(x_test,y_test)\n",
    "\n",
    "print(score_test)\n",
    "print(score_train)"
   ]
  },
  {
   "attachments": {},
   "cell_type": "markdown",
   "metadata": {},
   "source": [
    "5. Visualisation"
   ]
  },
  {
   "cell_type": "code",
   "execution_count": 20,
   "metadata": {},
   "outputs": [
    {
     "name": "stdout",
     "output_type": "stream",
     "text": [
      "[ 0.07685183  0.18331953  0.18855733  0.23157117  0.31987556  0.33734942\n",
      "  0.49337311  0.5175764   0.53865401  0.55592172  0.7504369   0.80248205\n",
      "  0.81034624  0.8462725   0.88271802  0.90823458  0.90963444  0.90189069\n",
      "  0.87046975  0.86414651  0.81392441  0.77208435  0.770411    0.69352922\n",
      "  0.57404945  0.30244071  0.24408975  0.06828197 -0.03998897 -0.15985407\n",
      " -0.37207985 -0.41585358 -0.51549143 -0.56754314 -0.73329316 -0.81305132\n",
      " -0.82603144 -0.8564517  -0.89785834 -0.89476153]\n"
     ]
    },
    {
     "data": {
      "image/png": "[encoded data removed]",
      "text/plain": [
       "<Figure size 640x480 with 1 Axes>"
      ]
     },
     "metadata": {},
     "output_type": "display_data"
    }
   ],
   "source": [
    "y_new = model.predict(x_tot)\n",
    "print(y_new)\n",
    "plt.plot(x_train,y_train,\"b*\", label = 'train data')\n",
    "plt.plot(x_test,y_test,\"r*\", label = 'test data')\n",
    "plt.plot(x_tot,y_new, label = 'modele obtenu')\n",
    "plt.legend()\n",
    "plt.show()\n"
   ]
  }
 ],
 "metadata": {
  "kernelspec": {
   "display_name": "Python 3 (ipykernel)",
   "language": "python",
   "name": "python3"
  },
  "language_info": {
   "codemirror_mode": {
    "name": "ipython",
    "version": 3
   },
   "file_extension": ".py",
   "mimetype": "text/x-python",
   "name": "python",
   "nbconvert_exporter": "python",
   "pygments_lexer": "ipython3",
   "version": "3.9.13"
  }
 },
 "nbformat": 4,
 "nbformat_minor": 4
}
