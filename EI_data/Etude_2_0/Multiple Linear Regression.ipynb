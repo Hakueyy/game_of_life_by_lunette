{
 "cells": [
  {
   "cell_type": "code",
   "execution_count": 20,
   "id": "128cbc15",
   "metadata": {},
   "outputs": [],
   "source": [
    "import pandas as pd\n",
    "import matplotlib.pyplot as plt\n",
    "import numpy as np\n",
    "\n"
   ]
  },
  {
   "cell_type": "code",
   "execution_count": null,
   "id": "3d5b9851",
   "metadata": {},
   "outputs": [],
   "source": [
    "1) Lire le fichier az.csv "
   ]
  },
  {
   "cell_type": "code",
   "execution_count": 3,
   "id": "5d4cd3d5",
   "metadata": {},
   "outputs": [
    {
     "data": {
      "text/html": [
       "<div>\n",
       "<style scoped>\n",
       "    .dataframe tbody tr th:only-of-type {\n",
       "        vertical-align: middle;\n",
       "    }\n",
       "\n",
       "    .dataframe tbody tr th {\n",
       "        vertical-align: top;\n",
       "    }\n",
       "\n",
       "    .dataframe thead th {\n",
       "        text-align: right;\n",
       "    }\n",
       "</style>\n",
       "<table border=\"1\" class=\"dataframe\">\n",
       "  <thead>\n",
       "    <tr style=\"text-align: right;\">\n",
       "      <th></th>\n",
       "      <th>Unnamed: 0</th>\n",
       "      <th>year</th>\n",
       "      <th>month</th>\n",
       "      <th>interest_rate</th>\n",
       "      <th>unemployment_rate</th>\n",
       "      <th>index_price</th>\n",
       "    </tr>\n",
       "  </thead>\n",
       "  <tbody>\n",
       "    <tr>\n",
       "      <th>0</th>\n",
       "      <td>0</td>\n",
       "      <td>2017</td>\n",
       "      <td>12</td>\n",
       "      <td>2.75</td>\n",
       "      <td>5.3</td>\n",
       "      <td>1464</td>\n",
       "    </tr>\n",
       "    <tr>\n",
       "      <th>1</th>\n",
       "      <td>1</td>\n",
       "      <td>2017</td>\n",
       "      <td>11</td>\n",
       "      <td>2.50</td>\n",
       "      <td>5.3</td>\n",
       "      <td>1394</td>\n",
       "    </tr>\n",
       "    <tr>\n",
       "      <th>2</th>\n",
       "      <td>2</td>\n",
       "      <td>2017</td>\n",
       "      <td>10</td>\n",
       "      <td>2.50</td>\n",
       "      <td>5.3</td>\n",
       "      <td>1357</td>\n",
       "    </tr>\n",
       "    <tr>\n",
       "      <th>3</th>\n",
       "      <td>3</td>\n",
       "      <td>2017</td>\n",
       "      <td>9</td>\n",
       "      <td>2.50</td>\n",
       "      <td>5.3</td>\n",
       "      <td>1293</td>\n",
       "    </tr>\n",
       "    <tr>\n",
       "      <th>4</th>\n",
       "      <td>4</td>\n",
       "      <td>2017</td>\n",
       "      <td>8</td>\n",
       "      <td>2.50</td>\n",
       "      <td>5.4</td>\n",
       "      <td>1256</td>\n",
       "    </tr>\n",
       "    <tr>\n",
       "      <th>5</th>\n",
       "      <td>5</td>\n",
       "      <td>2017</td>\n",
       "      <td>7</td>\n",
       "      <td>2.50</td>\n",
       "      <td>5.6</td>\n",
       "      <td>1254</td>\n",
       "    </tr>\n",
       "    <tr>\n",
       "      <th>6</th>\n",
       "      <td>6</td>\n",
       "      <td>2017</td>\n",
       "      <td>6</td>\n",
       "      <td>2.50</td>\n",
       "      <td>5.5</td>\n",
       "      <td>1234</td>\n",
       "    </tr>\n",
       "    <tr>\n",
       "      <th>7</th>\n",
       "      <td>7</td>\n",
       "      <td>2017</td>\n",
       "      <td>5</td>\n",
       "      <td>2.25</td>\n",
       "      <td>5.5</td>\n",
       "      <td>1195</td>\n",
       "    </tr>\n",
       "    <tr>\n",
       "      <th>8</th>\n",
       "      <td>8</td>\n",
       "      <td>2017</td>\n",
       "      <td>4</td>\n",
       "      <td>2.25</td>\n",
       "      <td>5.5</td>\n",
       "      <td>1159</td>\n",
       "    </tr>\n",
       "    <tr>\n",
       "      <th>9</th>\n",
       "      <td>9</td>\n",
       "      <td>2017</td>\n",
       "      <td>3</td>\n",
       "      <td>2.25</td>\n",
       "      <td>5.6</td>\n",
       "      <td>1167</td>\n",
       "    </tr>\n",
       "    <tr>\n",
       "      <th>10</th>\n",
       "      <td>10</td>\n",
       "      <td>2017</td>\n",
       "      <td>2</td>\n",
       "      <td>2.00</td>\n",
       "      <td>5.7</td>\n",
       "      <td>1130</td>\n",
       "    </tr>\n",
       "    <tr>\n",
       "      <th>11</th>\n",
       "      <td>11</td>\n",
       "      <td>2017</td>\n",
       "      <td>1</td>\n",
       "      <td>2.00</td>\n",
       "      <td>5.9</td>\n",
       "      <td>1075</td>\n",
       "    </tr>\n",
       "    <tr>\n",
       "      <th>12</th>\n",
       "      <td>12</td>\n",
       "      <td>2016</td>\n",
       "      <td>12</td>\n",
       "      <td>2.00</td>\n",
       "      <td>6.0</td>\n",
       "      <td>1047</td>\n",
       "    </tr>\n",
       "    <tr>\n",
       "      <th>13</th>\n",
       "      <td>13</td>\n",
       "      <td>2016</td>\n",
       "      <td>11</td>\n",
       "      <td>1.75</td>\n",
       "      <td>5.9</td>\n",
       "      <td>965</td>\n",
       "    </tr>\n",
       "    <tr>\n",
       "      <th>14</th>\n",
       "      <td>14</td>\n",
       "      <td>2016</td>\n",
       "      <td>10</td>\n",
       "      <td>1.75</td>\n",
       "      <td>5.8</td>\n",
       "      <td>943</td>\n",
       "    </tr>\n",
       "    <tr>\n",
       "      <th>15</th>\n",
       "      <td>15</td>\n",
       "      <td>2016</td>\n",
       "      <td>9</td>\n",
       "      <td>1.75</td>\n",
       "      <td>6.1</td>\n",
       "      <td>958</td>\n",
       "    </tr>\n",
       "    <tr>\n",
       "      <th>16</th>\n",
       "      <td>16</td>\n",
       "      <td>2016</td>\n",
       "      <td>8</td>\n",
       "      <td>1.75</td>\n",
       "      <td>6.2</td>\n",
       "      <td>971</td>\n",
       "    </tr>\n",
       "    <tr>\n",
       "      <th>17</th>\n",
       "      <td>17</td>\n",
       "      <td>2016</td>\n",
       "      <td>7</td>\n",
       "      <td>1.75</td>\n",
       "      <td>6.1</td>\n",
       "      <td>949</td>\n",
       "    </tr>\n",
       "    <tr>\n",
       "      <th>18</th>\n",
       "      <td>18</td>\n",
       "      <td>2016</td>\n",
       "      <td>6</td>\n",
       "      <td>1.75</td>\n",
       "      <td>6.1</td>\n",
       "      <td>884</td>\n",
       "    </tr>\n",
       "    <tr>\n",
       "      <th>19</th>\n",
       "      <td>19</td>\n",
       "      <td>2016</td>\n",
       "      <td>5</td>\n",
       "      <td>1.75</td>\n",
       "      <td>6.1</td>\n",
       "      <td>866</td>\n",
       "    </tr>\n",
       "    <tr>\n",
       "      <th>20</th>\n",
       "      <td>20</td>\n",
       "      <td>2016</td>\n",
       "      <td>4</td>\n",
       "      <td>1.75</td>\n",
       "      <td>5.9</td>\n",
       "      <td>876</td>\n",
       "    </tr>\n",
       "    <tr>\n",
       "      <th>21</th>\n",
       "      <td>21</td>\n",
       "      <td>2016</td>\n",
       "      <td>3</td>\n",
       "      <td>1.75</td>\n",
       "      <td>6.2</td>\n",
       "      <td>822</td>\n",
       "    </tr>\n",
       "    <tr>\n",
       "      <th>22</th>\n",
       "      <td>22</td>\n",
       "      <td>2016</td>\n",
       "      <td>2</td>\n",
       "      <td>1.75</td>\n",
       "      <td>6.2</td>\n",
       "      <td>704</td>\n",
       "    </tr>\n",
       "    <tr>\n",
       "      <th>23</th>\n",
       "      <td>23</td>\n",
       "      <td>2016</td>\n",
       "      <td>1</td>\n",
       "      <td>1.75</td>\n",
       "      <td>6.1</td>\n",
       "      <td>719</td>\n",
       "    </tr>\n",
       "  </tbody>\n",
       "</table>\n",
       "</div>"
      ],
      "text/plain": [
       "    Unnamed: 0  year  month  interest_rate  unemployment_rate  index_price\n",
       "0            0  2017     12           2.75                5.3         1464\n",
       "1            1  2017     11           2.50                5.3         1394\n",
       "2            2  2017     10           2.50                5.3         1357\n",
       "3            3  2017      9           2.50                5.3         1293\n",
       "4            4  2017      8           2.50                5.4         1256\n",
       "5            5  2017      7           2.50                5.6         1254\n",
       "6            6  2017      6           2.50                5.5         1234\n",
       "7            7  2017      5           2.25                5.5         1195\n",
       "8            8  2017      4           2.25                5.5         1159\n",
       "9            9  2017      3           2.25                5.6         1167\n",
       "10          10  2017      2           2.00                5.7         1130\n",
       "11          11  2017      1           2.00                5.9         1075\n",
       "12          12  2016     12           2.00                6.0         1047\n",
       "13          13  2016     11           1.75                5.9          965\n",
       "14          14  2016     10           1.75                5.8          943\n",
       "15          15  2016      9           1.75                6.1          958\n",
       "16          16  2016      8           1.75                6.2          971\n",
       "17          17  2016      7           1.75                6.1          949\n",
       "18          18  2016      6           1.75                6.1          884\n",
       "19          19  2016      5           1.75                6.1          866\n",
       "20          20  2016      4           1.75                5.9          876\n",
       "21          21  2016      3           1.75                6.2          822\n",
       "22          22  2016      2           1.75                6.2          704\n",
       "23          23  2016      1           1.75                6.1          719"
      ]
     },
     "execution_count": 3,
     "metadata": {},
     "output_type": "execute_result"
    }
   ],
   "source": [
    "az = pd.read_csv('az.csv')\n",
    "az"
   ]
  },
  {
   "cell_type": "code",
   "execution_count": null,
   "id": "a9f48ef3",
   "metadata": {},
   "outputs": [],
   "source": [
    "2) Tracer 'index_price' en fonction de  'interest_rate'"
   ]
  },
  {
   "cell_type": "code",
   "execution_count": 9,
   "id": "d9c5965b",
   "metadata": {
    "scrolled": true
   },
   "outputs": [
    {
     "data": {
      "image/png": "[encoded data removed]",
      "text/plain": [
       "<Figure size 640x480 with 1 Axes>"
      ]
     },
     "metadata": {},
     "output_type": "display_data"
    }
   ],
   "source": [
    "plt.plot(az['interest_rate'], az['index_price'], \"-\")\n",
    "plt.show()"
   ]
  },
  {
   "cell_type": "code",
   "execution_count": null,
   "id": "b3d717ef",
   "metadata": {},
   "outputs": [],
   "source": [
    "2) Tracer 'index_price' en fonction de  'unemployment_rate'"
   ]
  },
  {
   "cell_type": "code",
   "execution_count": 10,
   "id": "a37fd576",
   "metadata": {},
   "outputs": [
    {
     "data": {
      "image/png": "[encoded data removed]",
      "text/plain": [
       "<Figure size 640x480 with 1 Axes>"
      ]
     },
     "metadata": {},
     "output_type": "display_data"
    }
   ],
   "source": [
    "plt.plot(az['unemployment_rate'], az['index_price'], \"-\")\n",
    "plt.show()"
   ]
  },
  {
   "cell_type": "code",
   "execution_count": null,
   "id": "767febb0",
   "metadata": {},
   "outputs": [],
   "source": [
    "Multiple Linear Regression\n",
    "3) Conception du modèle"
   ]
  },
  {
   "cell_type": "code",
   "execution_count": 12,
   "id": "0ace2737",
   "metadata": {},
   "outputs": [
    {
     "name": "stdout",
     "output_type": "stream",
     "text": [
      "    Unnamed: 0  year  month  interest_rate  unemployment_rate\n",
      "0            0  2017     12           2.75                5.3\n",
      "1            1  2017     11           2.50                5.3\n",
      "2            2  2017     10           2.50                5.3\n",
      "3            3  2017      9           2.50                5.3\n",
      "4            4  2017      8           2.50                5.4\n",
      "5            5  2017      7           2.50                5.6\n",
      "6            6  2017      6           2.50                5.5\n",
      "7            7  2017      5           2.25                5.5\n",
      "8            8  2017      4           2.25                5.5\n",
      "9            9  2017      3           2.25                5.6\n",
      "10          10  2017      2           2.00                5.7\n",
      "11          11  2017      1           2.00                5.9\n",
      "12          12  2016     12           2.00                6.0\n",
      "13          13  2016     11           1.75                5.9\n",
      "14          14  2016     10           1.75                5.8\n",
      "15          15  2016      9           1.75                6.1\n",
      "16          16  2016      8           1.75                6.2\n",
      "17          17  2016      7           1.75                6.1\n",
      "18          18  2016      6           1.75                6.1\n",
      "19          19  2016      5           1.75                6.1\n",
      "20          20  2016      4           1.75                5.9\n",
      "21          21  2016      3           1.75                6.2\n",
      "22          22  2016      2           1.75                6.2\n",
      "23          23  2016      1           1.75                6.1\n"
     ]
    }
   ],
   "source": [
    "import pandas as pd\n",
    "from sklearn.model_selection import train_test_split\n",
    "from sklearn.linear_model import LinearRegression\n"
   ]
  },
  {
   "cell_type": "code",
   "execution_count": 23,
   "id": "169d5fff",
   "metadata": {},
   "outputs": [
    {
     "name": "stdout",
     "output_type": "stream",
     "text": [
      "[[2.017e+03 1.200e+01 2.750e+00 5.300e+00]\n",
      " [2.017e+03 1.100e+01 2.500e+00 5.300e+00]\n",
      " [2.017e+03 1.000e+01 2.500e+00 5.300e+00]\n",
      " [2.017e+03 9.000e+00 2.500e+00 5.300e+00]\n",
      " [2.017e+03 8.000e+00 2.500e+00 5.400e+00]\n",
      " [2.017e+03 7.000e+00 2.500e+00 5.600e+00]\n",
      " [2.017e+03 6.000e+00 2.500e+00 5.500e+00]\n",
      " [2.017e+03 5.000e+00 2.250e+00 5.500e+00]\n",
      " [2.017e+03 4.000e+00 2.250e+00 5.500e+00]\n",
      " [2.017e+03 3.000e+00 2.250e+00 5.600e+00]\n",
      " [2.017e+03 2.000e+00 2.000e+00 5.700e+00]\n",
      " [2.017e+03 1.000e+00 2.000e+00 5.900e+00]\n",
      " [2.016e+03 1.200e+01 2.000e+00 6.000e+00]\n",
      " [2.016e+03 1.100e+01 1.750e+00 5.900e+00]\n",
      " [2.016e+03 1.000e+01 1.750e+00 5.800e+00]\n",
      " [2.016e+03 9.000e+00 1.750e+00 6.100e+00]\n",
      " [2.016e+03 8.000e+00 1.750e+00 6.200e+00]\n",
      " [2.016e+03 7.000e+00 1.750e+00 6.100e+00]\n",
      " [2.016e+03 6.000e+00 1.750e+00 6.100e+00]\n",
      " [2.016e+03 5.000e+00 1.750e+00 6.100e+00]\n",
      " [2.016e+03 4.000e+00 1.750e+00 5.900e+00]\n",
      " [2.016e+03 3.000e+00 1.750e+00 6.200e+00]\n",
      " [2.016e+03 2.000e+00 1.750e+00 6.200e+00]\n",
      " [2.016e+03 1.000e+00 1.750e+00 6.100e+00]]\n"
     ]
    }
   ],
   "source": [
    "\n",
    "X1 = np.array(az.drop('index_price', axis = 1))\n",
    "#drop conserve toutes les colonnes (axiis =1) sauf celle ayant comme en-tête 'index_price'\n",
    "X = X1[:,1:]\n",
    "print(X)\n",
    "X_train,X_test,Y_train,Y_test = train_test_split(X,y,test_size=0.2)\n",
    "model = LinearRegression()"
   ]
  },
  {
   "cell_type": "code",
   "execution_count": null,
   "id": "cc322186",
   "metadata": {},
   "outputs": [],
   "source": [
    "4) Entrainement "
   ]
  },
  {
   "cell_type": "code",
   "execution_count": 24,
   "id": "65dd491b",
   "metadata": {},
   "outputs": [
    {
     "data": {
      "text/html": [
       "<style>#sk-container-id-2 {color: black;background-color: white;}#sk-container-id-2 pre{padding: 0;}#sk-container-id-2 div.sk-toggleable {background-color: white;}#sk-container-id-2 label.sk-toggleable__label {cursor: pointer;display: block;width: 100%;margin-bottom: 0;padding: 0.3em;box-sizing: border-box;text-align: center;}#sk-container-id-2 label.sk-toggleable__label-arrow:before {content: \"▸\";float: left;margin-right: 0.25em;color: #696969;}#sk-container-id-2 label.sk-toggleable__label-arrow:hover:before {color: black;}#sk-container-id-2 div.sk-estimator:hover label.sk-toggleable__label-arrow:before {color: black;}#sk-container-id-2 div.sk-toggleable__content {max-height: 0;max-width: 0;overflow: hidden;text-align: left;background-color: #f0f8ff;}#sk-container-id-2 div.sk-toggleable__content pre {margin: 0.2em;color: black;border-radius: 0.25em;background-color: #f0f8ff;}#sk-container-id-2 input.sk-toggleable__control:checked~div.sk-toggleable__content {max-height: 200px;max-width: 100%;overflow: auto;}#sk-container-id-2 input.sk-toggleable__control:checked~label.sk-toggleable__label-arrow:before {content: \"▾\";}#sk-container-id-2 div.sk-estimator input.sk-toggleable__control:checked~label.sk-toggleable__label {background-color: #d4ebff;}#sk-container-id-2 div.sk-label input.sk-toggleable__control:checked~label.sk-toggleable__label {background-color: #d4ebff;}#sk-container-id-2 input.sk-hidden--visually {border: 0;clip: rect(1px 1px 1px 1px);clip: rect(1px, 1px, 1px, 1px);height: 1px;margin: -1px;overflow: hidden;padding: 0;position: absolute;width: 1px;}#sk-container-id-2 div.sk-estimator {font-family: monospace;background-color: #f0f8ff;border: 1px dotted black;border-radius: 0.25em;box-sizing: border-box;margin-bottom: 0.5em;}#sk-container-id-2 div.sk-estimator:hover {background-color: #d4ebff;}#sk-container-id-2 div.sk-parallel-item::after {content: \"\";width: 100%;border-bottom: 1px solid gray;flex-grow: 1;}#sk-container-id-2 div.sk-label:hover label.sk-toggleable__label {background-color: #d4ebff;}#sk-container-id-2 div.sk-serial::before {content: \"\";position: absolute;border-left: 1px solid gray;box-sizing: border-box;top: 0;bottom: 0;left: 50%;z-index: 0;}#sk-container-id-2 div.sk-serial {display: flex;flex-direction: column;align-items: center;background-color: white;padding-right: 0.2em;padding-left: 0.2em;position: relative;}#sk-container-id-2 div.sk-item {position: relative;z-index: 1;}#sk-container-id-2 div.sk-parallel {display: flex;align-items: stretch;justify-content: center;background-color: white;position: relative;}#sk-container-id-2 div.sk-item::before, #sk-container-id-2 div.sk-parallel-item::before {content: \"\";position: absolute;border-left: 1px solid gray;box-sizing: border-box;top: 0;bottom: 0;left: 50%;z-index: -1;}#sk-container-id-2 div.sk-parallel-item {display: flex;flex-direction: column;z-index: 1;position: relative;background-color: white;}#sk-container-id-2 div.sk-parallel-item:first-child::after {align-self: flex-end;width: 50%;}#sk-container-id-2 div.sk-parallel-item:last-child::after {align-self: flex-start;width: 50%;}#sk-container-id-2 div.sk-parallel-item:only-child::after {width: 0;}#sk-container-id-2 div.sk-dashed-wrapped {border: 1px dashed gray;margin: 0 0.4em 0.5em 0.4em;box-sizing: border-box;padding-bottom: 0.4em;background-color: white;}#sk-container-id-2 div.sk-label label {font-family: monospace;font-weight: bold;display: inline-block;line-height: 1.2em;}#sk-container-id-2 div.sk-label-container {text-align: center;}#sk-container-id-2 div.sk-container {/* jupyter's `normalize.less` sets `[hidden] { display: none; }` but bootstrap.min.css set `[hidden] { display: none !important; }` so we also need the `!important` here to be able to override the default hidden behavior on the sphinx rendered scikit-learn.org. See: https://github.com/scikit-learn/scikit-learn/issues/21755 */display: inline-block !important;position: relative;}#sk-container-id-2 div.sk-text-repr-fallback {display: none;}</style><div id=\"sk-container-id-2\" class=\"sk-top-container\"><div class=\"sk-text-repr-fallback\"><pre>LinearRegression()</pre><b>In a Jupyter environment, please rerun this cell to show the HTML representation or trust the notebook. <br />On GitHub, the HTML representation is unable to render, please try loading this page with nbviewer.org.</b></div><div class=\"sk-container\" hidden><div class=\"sk-item\"><div class=\"sk-estimator sk-toggleable\"><input class=\"sk-toggleable__control sk-hidden--visually\" id=\"sk-estimator-id-2\" type=\"checkbox\" checked><label for=\"sk-estimator-id-2\" class=\"sk-toggleable__label sk-toggleable__label-arrow\">LinearRegression</label><div class=\"sk-toggleable__content\"><pre>LinearRegression()</pre></div></div></div></div></div>"
      ],
      "text/plain": [
       "LinearRegression()"
      ]
     },
     "execution_count": 24,
     "metadata": {},
     "output_type": "execute_result"
    }
   ],
   "source": [
    "model.fit(X_train,Y_train)"
   ]
  },
  {
   "cell_type": "code",
   "execution_count": null,
   "id": "23639a83",
   "metadata": {},
   "outputs": [],
   "source": [
    "5) Calcul de \"Intercept\" et \"Coefficients\""
   ]
  },
  {
   "cell_type": "code",
   "execution_count": 25,
   "id": "cf269503",
   "metadata": {},
   "outputs": [
    {
     "name": "stdout",
     "output_type": "stream",
     "text": [
      "[355.46651056  30.17603311  26.01278313  34.7210686 ]\n",
      "-716175.6302465315\n"
     ]
    }
   ],
   "source": [
    "coeffs = model.coef_\n",
    "origines = model.intercept_\n",
    "\n",
    "print(coeffs)\n",
    "print(origines)"
   ]
  },
  {
   "cell_type": "code",
   "execution_count": null,
   "id": "b9df6dc4",
   "metadata": {},
   "outputs": [],
   "source": [
    "6) Test"
   ]
  },
  {
   "cell_type": "code",
   "execution_count": 27,
   "id": "a43c161d",
   "metadata": {},
   "outputs": [
    {
     "name": "stdout",
     "output_type": "stream",
     "text": [
      "[ 853.05609555 1200.69635651  973.76022798 1237.3755854  1027.16808047]\n",
      "19     866\n",
      "7     1195\n",
      "15     958\n",
      "6     1234\n",
      "13     965\n",
      "Name: index_price, dtype: int64\n",
      "0.9790205154567788\n",
      "0.9585051531567985\n"
     ]
    }
   ],
   "source": [
    "score_train = model.score(X_train,Y_train)\n",
    "score_test = model.score(X_test,Y_test)\n",
    "y_pred = model.predict(X_test)\n",
    "\n",
    "print(y_pred)\n",
    "print(Y_test)\n",
    "print(score_train)\n",
    "print(score_test)"
   ]
  }
 ],
 "metadata": {
  "kernelspec": {
   "display_name": "Python 3 (ipykernel)",
   "language": "python",
   "name": "python3"
  },
  "language_info": {
   "codemirror_mode": {
    "name": "ipython",
    "version": 3
   },
   "file_extension": ".py",
   "mimetype": "text/x-python",
   "name": "python",
   "nbconvert_exporter": "python",
   "pygments_lexer": "ipython3",
   "version": "3.9.13"
  }
 },
 "nbformat": 4,
 "nbformat_minor": 5
}
