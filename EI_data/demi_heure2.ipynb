{
 "cells": [
  {
   "cell_type": "code",
   "execution_count": 2,
   "metadata": {},
   "outputs": [],
   "source": [
    "import pandas as pd\n",
    "import numpy as np\n",
    "import matplotlib.pyplot as plt \n",
    "from sklearn.neighbors import KNeighborsRegressor\n",
    "from sklearn import model_selection"
   ]
  },
  {
   "cell_type": "code",
   "execution_count": 3,
   "metadata": {},
   "outputs": [
    {
     "name": "stdout",
     "output_type": "stream",
     "text": [
      "                     date      mean       temp  Heure        jour  weekday  \\\n",
      "0     2009-07-15 00:00:00  0.359623  14.955208      0  2009-07-15        2   \n",
      "1     2009-07-15 00:30:00  0.300786  14.955208      0  2009-07-15        2   \n",
      "2     2009-07-15 01:00:00  0.246548  14.955208      1  2009-07-15        2   \n",
      "3     2009-07-15 01:30:00  0.211129  14.955208      1  2009-07-15        2   \n",
      "4     2009-07-15 02:00:00  0.194699  14.955208      2  2009-07-15        2   \n",
      "...                   ...       ...        ...    ...         ...      ...   \n",
      "24859 2010-12-14 21:30:00  0.901088   3.307292     21  2010-12-14        1   \n",
      "24860 2010-12-14 22:00:00  0.837083   3.307292     22  2010-12-14        1   \n",
      "24861 2010-12-14 22:30:00  0.774550   3.307292     22  2010-12-14        1   \n",
      "24862 2010-12-14 23:00:00  0.699087   3.307292     23  2010-12-14        1   \n",
      "24863 2010-12-14 23:30:00  0.575146   3.307292     23  2010-12-14        1   \n",
      "\n",
      "       month  year  \n",
      "0          7  2009  \n",
      "1          7  2009  \n",
      "2          7  2009  \n",
      "3          7  2009  \n",
      "4          7  2009  \n",
      "...      ...   ...  \n",
      "24859     12  2010  \n",
      "24860     12  2010  \n",
      "24861     12  2010  \n",
      "24862     12  2010  \n",
      "24863     12  2010  \n",
      "\n",
      "[24864 rows x 8 columns]\n"
     ]
    }
   ],
   "source": [
    "donnees = pd.read_csv(\"df_vst_group8.csv\",decimal='.')\n",
    "\n",
    "# Conversion de la colonne 'Heures' en type heure\n",
    "donnees['date'] = pd.to_datetime(donnees['date'])\n",
    "\n",
    "# Extraction de l'heure, des jours, des jours de semaines, des mois et des années dans des colonnes séparées\n",
    "donnees['Heure'] = donnees['date'].dt.time.apply(lambda x: x.hour)\n",
    "donnees['jour'] = donnees['date'].dt.date\n",
    "donnees['weekday'] = donnees['date'].dt.weekday\n",
    "donnees['month']= donnees['date'].dt.month\n",
    "donnees['year'] = donnees['date'].dt.year\n",
    "\n",
    "\n",
    "# Calcul de la température moyenne par jour\n",
    "temperature_moyenne = donnees.groupby('jour')['temp'].mean().reset_index()\n",
    "temperature_moyenne = temperature_moyenne.rename(columns={'temp': 'temp_moyenne'})\n",
    "\n",
    "# Fusion des températures moyennes avec le dataframe d'origine\n",
    "donnees_merged = pd.merge(donnees, temperature_moyenne, on='jour')\n",
    "\n",
    "# Remplacement des valeurs de température par la température moyenne\n",
    "donnees_merged['temp'] = donnees_merged['temp_moyenne']\n",
    "\n",
    "# Suppression des colonnes intermédiaires\n",
    "donnees_merged = donnees_merged.drop([ 'temp_moyenne'], axis=1)\n",
    "\n",
    "donnees = donnees_merged\n",
    "\n",
    "# Extraction des jours à prédire \n",
    "X_pred = donnees.query('index > 25489')\n",
    "\n",
    "# Supression des lignes contenant NaN \n",
    "\n",
    "donnees.dropna(inplace=True)\n",
    "\n",
    "print(donnees)"
   ]
  },
  {
   "cell_type": "code",
   "execution_count": 4,
   "metadata": {},
   "outputs": [],
   "source": [
    "\n",
    "\n",
    "# Création de la matrice des données servant à la prévision \n",
    "X = donnees[['Heure','temp','weekday']]\n",
    "\n",
    "y = donnees['mean']\n",
    "\n",
    "max_temp = donnees['temp'].max()\n",
    "donnees['temp'] = donnees['temp']/max_temp\n",
    "donnees['Heure'] = donnees['Heure']*8/24 # 8 est un coefficient de poids sur l'heure, et le 24 un coefficient de normalisation \n",
    "donnees['weekday'] = donnees['weekday']*2/6\n",
    "# Séparation des données en test et train \n",
    "\n",
    "X_train = donnees.query('(month > 7 and year == 2009) or (month < 5) or (month > 7 and month < 11 and year == 2010) ')[['Heure','temp','weekday']]\n",
    "X_test =  donnees.query('month > 10 and year == 2010')[['Heure','temp','weekday']]\n",
    "Y_train = donnees.query('(month > 7 and year == 2009) or (month < 5) or (month > 7 and month < 11 and year == 2010) ')[['mean']]\n",
    "Y_test =  donnees.query('month > 10 and year == 2010')[['mean']]"
   ]
  },
  {
   "cell_type": "code",
   "execution_count": 7,
   "metadata": {},
   "outputs": [
    {
     "data": {
      "text/html": [
       "<style>#sk-container-id-2 {color: black;background-color: white;}#sk-container-id-2 pre{padding: 0;}#sk-container-id-2 div.sk-toggleable {background-color: white;}#sk-container-id-2 label.sk-toggleable__label {cursor: pointer;display: block;width: 100%;margin-bottom: 0;padding: 0.3em;box-sizing: border-box;text-align: center;}#sk-container-id-2 label.sk-toggleable__label-arrow:before {content: \"▸\";float: left;margin-right: 0.25em;color: #696969;}#sk-container-id-2 label.sk-toggleable__label-arrow:hover:before {color: black;}#sk-container-id-2 div.sk-estimator:hover label.sk-toggleable__label-arrow:before {color: black;}#sk-container-id-2 div.sk-toggleable__content {max-height: 0;max-width: 0;overflow: hidden;text-align: left;background-color: #f0f8ff;}#sk-container-id-2 div.sk-toggleable__content pre {margin: 0.2em;color: black;border-radius: 0.25em;background-color: #f0f8ff;}#sk-container-id-2 input.sk-toggleable__control:checked~div.sk-toggleable__content {max-height: 200px;max-width: 100%;overflow: auto;}#sk-container-id-2 input.sk-toggleable__control:checked~label.sk-toggleable__label-arrow:before {content: \"▾\";}#sk-container-id-2 div.sk-estimator input.sk-toggleable__control:checked~label.sk-toggleable__label {background-color: #d4ebff;}#sk-container-id-2 div.sk-label input.sk-toggleable__control:checked~label.sk-toggleable__label {background-color: #d4ebff;}#sk-container-id-2 input.sk-hidden--visually {border: 0;clip: rect(1px 1px 1px 1px);clip: rect(1px, 1px, 1px, 1px);height: 1px;margin: -1px;overflow: hidden;padding: 0;position: absolute;width: 1px;}#sk-container-id-2 div.sk-estimator {font-family: monospace;background-color: #f0f8ff;border: 1px dotted black;border-radius: 0.25em;box-sizing: border-box;margin-bottom: 0.5em;}#sk-container-id-2 div.sk-estimator:hover {background-color: #d4ebff;}#sk-container-id-2 div.sk-parallel-item::after {content: \"\";width: 100%;border-bottom: 1px solid gray;flex-grow: 1;}#sk-container-id-2 div.sk-label:hover label.sk-toggleable__label {background-color: #d4ebff;}#sk-container-id-2 div.sk-serial::before {content: \"\";position: absolute;border-left: 1px solid gray;box-sizing: border-box;top: 0;bottom: 0;left: 50%;z-index: 0;}#sk-container-id-2 div.sk-serial {display: flex;flex-direction: column;align-items: center;background-color: white;padding-right: 0.2em;padding-left: 0.2em;position: relative;}#sk-container-id-2 div.sk-item {position: relative;z-index: 1;}#sk-container-id-2 div.sk-parallel {display: flex;align-items: stretch;justify-content: center;background-color: white;position: relative;}#sk-container-id-2 div.sk-item::before, #sk-container-id-2 div.sk-parallel-item::before {content: \"\";position: absolute;border-left: 1px solid gray;box-sizing: border-box;top: 0;bottom: 0;left: 50%;z-index: -1;}#sk-container-id-2 div.sk-parallel-item {display: flex;flex-direction: column;z-index: 1;position: relative;background-color: white;}#sk-container-id-2 div.sk-parallel-item:first-child::after {align-self: flex-end;width: 50%;}#sk-container-id-2 div.sk-parallel-item:last-child::after {align-self: flex-start;width: 50%;}#sk-container-id-2 div.sk-parallel-item:only-child::after {width: 0;}#sk-container-id-2 div.sk-dashed-wrapped {border: 1px dashed gray;margin: 0 0.4em 0.5em 0.4em;box-sizing: border-box;padding-bottom: 0.4em;background-color: white;}#sk-container-id-2 div.sk-label label {font-family: monospace;font-weight: bold;display: inline-block;line-height: 1.2em;}#sk-container-id-2 div.sk-label-container {text-align: center;}#sk-container-id-2 div.sk-container {/* jupyter's `normalize.less` sets `[hidden] { display: none; }` but bootstrap.min.css set `[hidden] { display: none !important; }` so we also need the `!important` here to be able to override the default hidden behavior on the sphinx rendered scikit-learn.org. See: https://github.com/scikit-learn/scikit-learn/issues/21755 */display: inline-block !important;position: relative;}#sk-container-id-2 div.sk-text-repr-fallback {display: none;}</style><div id=\"sk-container-id-2\" class=\"sk-top-container\"><div class=\"sk-text-repr-fallback\"><pre>GridSearchCV(cv=5, estimator=KNeighborsRegressor(),\n",
       "             param_grid={&#x27;n_neighbors&#x27;: [19, 20, 22, 23, 25, 26, 27, 29, 30, 31,\n",
       "                                         32, 33, 34, 35, 36, 37, 38, 39, 40, 45,\n",
       "                                         48, 50, 52, 54, 56, 60, 62, 64, 66, 67, ...]})</pre><b>In a Jupyter environment, please rerun this cell to show the HTML representation or trust the notebook. <br />On GitHub, the HTML representation is unable to render, please try loading this page with nbviewer.org.</b></div><div class=\"sk-container\" hidden><div class=\"sk-item sk-dashed-wrapped\"><div class=\"sk-label-container\"><div class=\"sk-label sk-toggleable\"><input class=\"sk-toggleable__control sk-hidden--visually\" id=\"sk-estimator-id-4\" type=\"checkbox\" ><label for=\"sk-estimator-id-4\" class=\"sk-toggleable__label sk-toggleable__label-arrow\">GridSearchCV</label><div class=\"sk-toggleable__content\"><pre>GridSearchCV(cv=5, estimator=KNeighborsRegressor(),\n",
       "             param_grid={&#x27;n_neighbors&#x27;: [19, 20, 22, 23, 25, 26, 27, 29, 30, 31,\n",
       "                                         32, 33, 34, 35, 36, 37, 38, 39, 40, 45,\n",
       "                                         48, 50, 52, 54, 56, 60, 62, 64, 66, 67, ...]})</pre></div></div></div><div class=\"sk-parallel\"><div class=\"sk-parallel-item\"><div class=\"sk-item\"><div class=\"sk-label-container\"><div class=\"sk-label sk-toggleable\"><input class=\"sk-toggleable__control sk-hidden--visually\" id=\"sk-estimator-id-5\" type=\"checkbox\" ><label for=\"sk-estimator-id-5\" class=\"sk-toggleable__label sk-toggleable__label-arrow\">estimator: KNeighborsRegressor</label><div class=\"sk-toggleable__content\"><pre>KNeighborsRegressor()</pre></div></div></div><div class=\"sk-serial\"><div class=\"sk-item\"><div class=\"sk-estimator sk-toggleable\"><input class=\"sk-toggleable__control sk-hidden--visually\" id=\"sk-estimator-id-6\" type=\"checkbox\" ><label for=\"sk-estimator-id-6\" class=\"sk-toggleable__label sk-toggleable__label-arrow\">KNeighborsRegressor</label><div class=\"sk-toggleable__content\"><pre>KNeighborsRegressor()</pre></div></div></div></div></div></div></div></div></div></div>"
      ],
      "text/plain": [
       "GridSearchCV(cv=5, estimator=KNeighborsRegressor(),\n",
       "             param_grid={'n_neighbors': [19, 20, 22, 23, 25, 26, 27, 29, 30, 31,\n",
       "                                         32, 33, 34, 35, 36, 37, 38, 39, 40, 45,\n",
       "                                         48, 50, 52, 54, 56, 60, 62, 64, 66, 67, ...]})"
      ]
     },
     "execution_count": 7,
     "metadata": {},
     "output_type": "execute_result"
    }
   ],
   "source": [
    "\n",
    "from sklearn import model_selection\n",
    "\n",
    "\n",
    "# Fixer les valeurs des hyperparamètres à tester\n",
    "param_grid = {'n_neighbors':[19,20,22,23,25,26,27,29,30,31,32,33,34,35,36,37,38,39,40,45,48,50,52,54,56,60,62,64,66,67,68]}\n",
    "\n",
    "\n",
    "# Créer un classifieur kNN avec recherche d'hyperparamètre par validation croisée\n",
    "clf = model_selection.GridSearchCV(\n",
    "    KNeighborsRegressor(), # un classifieur kNN\n",
    "    param_grid,     # hyperparamètres à tester\n",
    "    cv=5,           # nombre de folds de validation croisée\n",
    ")\n",
    "\n",
    "# Optimiser ce classifieur sur le jeu d'entraînement\n",
    "\n",
    "clf.fit(X_train, Y_train)\n",
    "\n",
    "\n"
   ]
  },
  {
   "cell_type": "code",
   "execution_count": 8,
   "metadata": {},
   "outputs": [
    {
     "name": "stdout",
     "output_type": "stream",
     "text": [
      "60\n"
     ]
    }
   ],
   "source": [
    "nb_neighbors = clf.best_params_['n_neighbors']\n",
    "print(nb_neighbors)"
   ]
  },
  {
   "cell_type": "code",
   "execution_count": 38,
   "metadata": {},
   "outputs": [
    {
     "name": "stdout",
     "output_type": "stream",
     "text": [
      "0.8941197900125557\n"
     ]
    }
   ],
   "source": [
    "#Entrainement du modèle avec kNN\n",
    "\n",
    "\n",
    "model = KNeighborsRegressor(nb_neighbors, weights='distance')\n",
    "\n",
    "model.fit(X_train, Y_train)\n",
    "Y_pred = model.predict(X_test)\n",
    "\n",
    "print(model.score(X_test, Y_test))"
   ]
  },
  {
   "cell_type": "code",
   "execution_count": 39,
   "metadata": {},
   "outputs": [
    {
     "name": "stdout",
     "output_type": "stream",
     "text": [
      "mean    11.701333\n",
      "dtype: float64\n"
     ]
    },
    {
     "name": "stderr",
     "output_type": "stream",
     "text": [
      "c:\\Users\\laure\\AppData\\Local\\Programs\\Python\\Python39\\lib\\site-packages\\numpy\\core\\fromnumeric.py:3430: FutureWarning: In a future version, DataFrame.mean(axis=None) will return a scalar mean over the entire DataFrame. To retain the old behavior, use 'frame.mean(axis=0)' or just 'frame.mean()'\n",
      "  return mean(axis=axis, dtype=dtype, out=out, **kwargs)\n"
     ]
    }
   ],
   "source": [
    "#Mean Absolute Percentage Error\n",
    "\n",
    "mape = np.mean(np.abs((Y_test - Y_pred)/Y_test))*100\n",
    "print(mape)"
   ]
  }
 ],
 "metadata": {
  "kernelspec": {
   "display_name": "Python 3",
   "language": "python",
   "name": "python3"
  },
  "language_info": {
   "codemirror_mode": {
    "name": "ipython",
    "version": 3
   },
   "file_extension": ".py",
   "mimetype": "text/x-python",
   "name": "python",
   "nbconvert_exporter": "python",
   "pygments_lexer": "ipython3",
   "version": "3.9.13"
  },
  "orig_nbformat": 4
 },
 "nbformat": 4,
 "nbformat_minor": 2
}
